{
 "cells": [
  {
   "cell_type": "markdown",
   "id": "c55dfbfd",
   "metadata": {},
   "source": [
    "# Import the Dependencies "
   ]
  },
  {
   "cell_type": "code",
   "execution_count": 2,
   "id": "083acae2",
   "metadata": {},
   "outputs": [],
   "source": [
    "import numpy as np\n",
    "import pandas as pd\n",
    "import matplotlib.pyplot as plt\n",
    "import seaborn as sns\n",
    "from sklearn.model_selection import train_test_split\n",
    "from sklearn.metrics import classification_report, accuracy_score\n",
    "from sklearn.svm import SVC\n",
    "from sklearn.preprocessing import StandardScaler\n",
    "%matplotlib inline\n",
    "import warnings\n",
    "warnings.filterwarnings('ignore')"
   ]
  },
  {
   "cell_type": "markdown",
   "id": "87d62777",
   "metadata": {},
   "source": [
    "## Understanding The Feature "
   ]
  },
  {
   "cell_type": "markdown",
   "id": "7ac777a5",
   "metadata": {},
   "source": [
    "-Pregnancies: This attribute represents the number of times a patient has been pregnant. It can be an important predictor of diabetes risk, as women who have had multiple pregnancies may be at higher risk.\n",
    "\n",
    "-Glucose: This attribute represents the patient's fasting blood glucose level, measured in milligrams per deciliter (mg/dL). It is a key indicator of diabetes risk, as high glucose levels can indicate impaired glucose tolerance or insulin resistance.\n",
    "\n",
    "-BloodPressure: This attribute represents the patient's systolic blood pressure, measured in millimeters of mercury (mmHg). High blood pressure can be a risk factor for diabetes, as it can damage blood vessels and impair insulin sensitivity.\n",
    "\n",
    "-SkinThickness: This attribute represents the thickness of the patient's skinfold at the triceps, measured in millimeters. While skin thickness is not directly related to diabetes risk, it can be a useful predictor of insulin resistance.\n",
    "\n",
    "-Insulin: This attribute represents the patient's serum insulin level, measured in microunits per milliliter (μU/mL). High insulin levels can be a sign of insulin resistance, which is a key risk factor for diabetes.\n",
    "\n",
    "-BMI: This attribute represents the patient's body mass index, calculated as weight in kilograms divided by height in meters squared. Obesity is a major risk factor for diabetes, and BMI is a useful measure of overall body fatness.\n",
    "\n",
    "-DiabetesPedigreeFunction: This attribute represents the patient's family history of diabetes, calculated as a function of the patient's relatives who have diabetes. A family history of diabetes can be a strong predictor of diabetes risk.\n",
    "\n",
    "-Age: This attribute represents the patient's age in years. Age is an important predictor of diabetes risk, as older individuals are generally at higher risk.\n",
    "\n",
    "-Outcome: This attribute represents whether or not the patient has been diagnosed with diabetes (1 if yes, 0 if no). This is the target variable that the machine learning model will be trained to predict."
   ]
  },
  {
   "cell_type": "code",
   "execution_count": 3,
   "id": "2ab29d5c",
   "metadata": {},
   "outputs": [],
   "source": [
    "df = pd.read_csv('F:\\Diabetes Prediction\\diabetes.csv')"
   ]
  },
  {
   "cell_type": "code",
   "execution_count": 4,
   "id": "65a6a7fc",
   "metadata": {},
   "outputs": [
    {
     "data": {
      "text/html": [
       "<div>\n",
       "<style scoped>\n",
       "    .dataframe tbody tr th:only-of-type {\n",
       "        vertical-align: middle;\n",
       "    }\n",
       "\n",
       "    .dataframe tbody tr th {\n",
       "        vertical-align: top;\n",
       "    }\n",
       "\n",
       "    .dataframe thead th {\n",
       "        text-align: right;\n",
       "    }\n",
       "</style>\n",
       "<table border=\"1\" class=\"dataframe\">\n",
       "  <thead>\n",
       "    <tr style=\"text-align: right;\">\n",
       "      <th></th>\n",
       "      <th>Pregnancies</th>\n",
       "      <th>Glucose</th>\n",
       "      <th>BloodPressure</th>\n",
       "      <th>SkinThickness</th>\n",
       "      <th>Insulin</th>\n",
       "      <th>BMI</th>\n",
       "      <th>DiabetesPedigreeFunction</th>\n",
       "      <th>Age</th>\n",
       "      <th>Outcome</th>\n",
       "    </tr>\n",
       "  </thead>\n",
       "  <tbody>\n",
       "    <tr>\n",
       "      <th>0</th>\n",
       "      <td>6</td>\n",
       "      <td>148</td>\n",
       "      <td>72</td>\n",
       "      <td>35</td>\n",
       "      <td>0</td>\n",
       "      <td>33.6</td>\n",
       "      <td>0.627</td>\n",
       "      <td>50</td>\n",
       "      <td>1</td>\n",
       "    </tr>\n",
       "    <tr>\n",
       "      <th>1</th>\n",
       "      <td>1</td>\n",
       "      <td>85</td>\n",
       "      <td>66</td>\n",
       "      <td>29</td>\n",
       "      <td>0</td>\n",
       "      <td>26.6</td>\n",
       "      <td>0.351</td>\n",
       "      <td>31</td>\n",
       "      <td>0</td>\n",
       "    </tr>\n",
       "    <tr>\n",
       "      <th>2</th>\n",
       "      <td>8</td>\n",
       "      <td>183</td>\n",
       "      <td>64</td>\n",
       "      <td>0</td>\n",
       "      <td>0</td>\n",
       "      <td>23.3</td>\n",
       "      <td>0.672</td>\n",
       "      <td>32</td>\n",
       "      <td>1</td>\n",
       "    </tr>\n",
       "    <tr>\n",
       "      <th>3</th>\n",
       "      <td>1</td>\n",
       "      <td>89</td>\n",
       "      <td>66</td>\n",
       "      <td>23</td>\n",
       "      <td>94</td>\n",
       "      <td>28.1</td>\n",
       "      <td>0.167</td>\n",
       "      <td>21</td>\n",
       "      <td>0</td>\n",
       "    </tr>\n",
       "    <tr>\n",
       "      <th>4</th>\n",
       "      <td>0</td>\n",
       "      <td>137</td>\n",
       "      <td>40</td>\n",
       "      <td>35</td>\n",
       "      <td>168</td>\n",
       "      <td>43.1</td>\n",
       "      <td>2.288</td>\n",
       "      <td>33</td>\n",
       "      <td>1</td>\n",
       "    </tr>\n",
       "  </tbody>\n",
       "</table>\n",
       "</div>"
      ],
      "text/plain": [
       "   Pregnancies  Glucose  BloodPressure  SkinThickness  Insulin   BMI  \\\n",
       "0            6      148             72             35        0  33.6   \n",
       "1            1       85             66             29        0  26.6   \n",
       "2            8      183             64              0        0  23.3   \n",
       "3            1       89             66             23       94  28.1   \n",
       "4            0      137             40             35      168  43.1   \n",
       "\n",
       "   DiabetesPedigreeFunction  Age  Outcome  \n",
       "0                     0.627   50        1  \n",
       "1                     0.351   31        0  \n",
       "2                     0.672   32        1  \n",
       "3                     0.167   21        0  \n",
       "4                     2.288   33        1  "
      ]
     },
     "execution_count": 4,
     "metadata": {},
     "output_type": "execute_result"
    }
   ],
   "source": [
    "df.head()"
   ]
  },
  {
   "cell_type": "code",
   "execution_count": 5,
   "id": "f2dc7016",
   "metadata": {},
   "outputs": [],
   "source": [
    "df.shape"
   ]
  },
  {
   "cell_type": "code",
   "execution_count": 6,
   "id": "62f75709",
   "metadata": {},
   "outputs": [],
   "source": [
    "df.info()"
   ]
  },
  {
   "cell_type": "code",
   "execution_count": 7,
   "id": "7fc7f468",
   "metadata": {},
   "outputs": [],
   "source": [
    "df.isnull().sum()"
   ]
  },
  {
   "cell_type": "code",
   "execution_count": 8,
   "id": "8d9635ea",
   "metadata": {},
   "outputs": [],
   "source": [
    "df.duplicated().sum()"
   ]
  },
  {
   "cell_type": "code",
   "execution_count": 9,
   "id": "00a0505e",
   "metadata": {},
   "outputs": [],
   "source": [
    "df.corr()"
   ]
  },
  {
   "cell_type": "code",
   "execution_count": 10,
   "id": "6e13634d",
   "metadata": {},
   "outputs": [],
   "source": [
    "df[\"Pregnancies\"].unique()"
   ]
  },
  {
   "cell_type": "code",
   "execution_count": 11,
   "id": "436252c9",
   "metadata": {},
   "outputs": [],
   "source": [
    "df.columns"
   ]
  },
  {
   "cell_type": "code",
   "execution_count": 12,
   "id": "0846822f",
   "metadata": {},
   "outputs": [],
   "source": [
    "df.describe()"
   ]
  },
  {
   "cell_type": "code",
   "execution_count": null,
   "id": "40405db3",
   "metadata": {
    "scrolled": true
   },
   "outputs": [],
   "source": []
  },
  {
   "cell_type": "code",
   "execution_count": 13,
   "id": "87b75c3a",
   "metadata": {},
   "outputs": [],
   "source": [
    "df = df.drop(df[df['Pregnancies'].isin([14,15, 17])].index)\n"
   ]
  },
  {
   "cell_type": "code",
   "execution_count": 14,
   "id": "7816adf5",
   "metadata": {
    "scrolled": false
   },
   "outputs": [],
   "source": [
    "for col in df.columns:\n",
    "    values_counts=df[col].value_counts()\n",
    "    print(f'the values counts in {col} is \\n{values_counts}')\n"
   ]
  },
  {
   "cell_type": "code",
   "execution_count": null,
   "id": "754eb3f1",
   "metadata": {},
   "outputs": [],
   "source": []
  },
  {
   "cell_type": "code",
   "execution_count": null,
   "id": "45830e1b",
   "metadata": {},
   "outputs": [],
   "source": [
    "sns.pairplot(df[df.columns], diag_kind='hist')\n"
   ]
  },
  {
   "cell_type": "code",
   "execution_count": null,
   "id": "02a0e42d",
   "metadata": {},
   "outputs": [],
   "source": [
    "df.groupby(\"Outcome\").mean()"
   ]
  },
  {
   "cell_type": "code",
   "execution_count": null,
   "id": "d6846b3d",
   "metadata": {},
   "outputs": [],
   "source": [
    "def Heat_Map():\n",
    "    corr = df.corr()\n",
    "    fig, ax = plt.subplots(figsize=(10, 8))\n",
    "    sns.heatmap(corr, cmap='coolwarm', annot=True, fmt='.2f')\n",
    "    plt.title('Correlation Matrix Heatmap')\n",
    "    plt.tight_layout()\n",
    "    plt.show()\n",
    "Heat_Map()"
   ]
  },
  {
   "cell_type": "code",
   "execution_count": null,
   "id": "45fae7e5",
   "metadata": {},
   "outputs": [],
   "source": [
    "# Define a function to create a box plot for each column\n",
    "def plot_outliers_boxplot(data):\n",
    "    # Create a figure with subplots for each column\n",
    "    fig, axs = plt.subplots(ncols=len(data.columns), figsize=(20, 5))\n",
    "\n",
    "    # Create a box plot for each column\n",
    "    for i, col in enumerate(data.columns):\n",
    "        sns.boxplot(x=data[col], ax=axs[i])\n",
    "        axs[i].set_xlabel(col)\n",
    "    \n",
    "    plt.tight_layout()\n",
    "    plt.show()\n",
    "plot_outliers_boxplot(df)"
   ]
  },
  {
   "cell_type": "code",
   "execution_count": null,
   "id": "0a9da08b",
   "metadata": {},
   "outputs": [],
   "source": [
    "df1 = df[df.Outcome==1]\n",
    "df0 = df[df.Outcome==0]\n"
   ]
  },
  {
   "cell_type": "code",
   "execution_count": null,
   "id": "542e5649",
   "metadata": {},
   "outputs": [],
   "source": [
    "plt.scatter(df1['Glucose'],df1['Insulin'],color='blue',marker='+')\n",
    "plt.scatter(df0['Glucose'],df0['Insulin'],color='red',marker='.')"
   ]
  },
  {
   "cell_type": "code",
   "execution_count": null,
   "id": "491955f6",
   "metadata": {},
   "outputs": [],
   "source": [
    "x=df.drop(columns='Outcome',axis=1)\n",
    "y=df['Outcome']"
   ]
  },
  {
   "cell_type": "code",
   "execution_count": null,
   "id": "839f92cd",
   "metadata": {},
   "outputs": [],
   "source": [
    "Scaler = StandardScaler()"
   ]
  },
  {
   "cell_type": "code",
   "execution_count": null,
   "id": "d23a8b8c",
   "metadata": {},
   "outputs": [],
   "source": [
    "x_standrize = Scaler.fit_transform(x)"
   ]
  },
  {
   "cell_type": "code",
   "execution_count": null,
   "id": "15fd7528",
   "metadata": {},
   "outputs": [],
   "source": [
    "x_train,x_test , y_train , y_test = train_test_split(x,y,test_size=0.2,stratify=y,random_state=2)"
   ]
  },
  {
   "cell_type": "code",
   "execution_count": null,
   "id": "2f01d038",
   "metadata": {},
   "outputs": [],
   "source": [
    "X_test.shape"
   ]
  },
  {
   "cell_type": "code",
   "execution_count": null,
   "id": "1f9354a6",
   "metadata": {},
   "outputs": [],
   "source": [
    "clf = svm.SVC(kernel='linear')"
   ]
  },
  {
   "cell_type": "code",
   "execution_count": null,
   "id": "7d35d173",
   "metadata": {},
   "outputs": [],
   "source": [
    "clf.fit(X_train , y_train)"
   ]
  },
  {
   "cell_type": "code",
   "execution_count": null,
   "id": "da9eb929",
   "metadata": {},
   "outputs": [],
   "source": [
    "X_train_acc = clf.predict(X_train)\n",
    "training_acc = accuracy_score(X_train_acc,y_train)\n",
    "training_acc"
   ]
  },
  {
   "cell_type": "code",
   "execution_count": null,
   "id": "220d6ac3",
   "metadata": {},
   "outputs": [],
   "source": [
    "y_predict = clf.predict(X_test)"
   ]
  },
  {
   "cell_type": "code",
   "execution_count": null,
   "id": "af2d890c",
   "metadata": {},
   "outputs": [],
   "source": [
    "print(classification_report(y_test,y_predict))\n"
   ]
  },
  {
   "cell_type": "code",
   "execution_count": null,
   "id": "22de9fe8",
   "metadata": {},
   "outputs": [],
   "source": [
    "input_data = (11,138,74,26,144,36.1,0.557,50)\n",
    "input_data_array = np.asarray(input_data)\n",
    "input_data_array_reshape = input_data_array.reshape(1,-1)\n",
    "prediction = clf.predict(input_data_array_reshape)\n",
    "print(prediction)"
   ]
  },
  {
   "cell_type": "markdown",
   "id": "7bc464d0",
   "metadata": {},
   "source": [
    "# Saving Model"
   ]
  },
  {
   "cell_type": "code",
   "execution_count": null,
   "id": "f03cfc10",
   "metadata": {},
   "outputs": [],
   "source": [
    "saving_model = pickle.dump(clf,open('diabetes.sav','wb'))"
   ]
  },
  {
   "cell_type": "code",
   "execution_count": null,
   "id": "59c2d3ce",
   "metadata": {},
   "outputs": [],
   "source": [
    "loadind_model = pickle.load(open('diabetes.sav','rb'))"
   ]
  },
  {
   "cell_type": "code",
   "execution_count": null,
   "id": "4ff96295",
   "metadata": {},
   "outputs": [],
   "source": []
  },
  {
   "cell_type": "code",
   "execution_count": null,
   "id": "caacb226",
   "metadata": {},
   "outputs": [],
   "source": [
    "input_data = (5,116,74,0,0,25.6,0.201,30)\n",
    "input_data_array = np.asarray(input_data)\n",
    "input_data_array_reshape = input_data_array.reshape(1,-1)\n",
    "prediction = loadind_model.predict(input_data_array_reshape)\n",
    "if(prediction[0]==0):\n",
    "    print(\"this is a non-diabetic person\")\n",
    "else:\n",
    "    print(\"this is a diabetic person\")"
   ]
  },
  {
   "cell_type": "code",
   "execution_count": null,
   "id": "a2f007f2",
   "metadata": {},
   "outputs": [],
   "source": []
  },
  {
   "cell_type": "code",
   "execution_count": null,
   "id": "8828ee80",
   "metadata": {},
   "outputs": [],
   "source": []
  }
 ],
 "metadata": {
  "kernelspec": {
   "display_name": "Python 3 (ipykernel)",
   "language": "python",
   "name": "python3"
  },
  "language_info": {
   "codemirror_mode": {
    "name": "ipython",
    "version": 3
   },
   "file_extension": ".py",
   "mimetype": "text/x-python",
   "name": "python",
   "nbconvert_exporter": "python",
   "pygments_lexer": "ipython3",
   "version": "3.11.0"
  }
 },
 "nbformat": 4,
 "nbformat_minor": 5
}
