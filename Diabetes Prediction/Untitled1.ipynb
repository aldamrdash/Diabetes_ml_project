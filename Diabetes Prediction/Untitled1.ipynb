{
 "cells": [
  {
   "cell_type": "code",
   "execution_count": 14,
   "id": "437f6677",
   "metadata": {},
   "outputs": [],
   "source": [
    "import numpy as np\n",
    "import streamlit as st\n",
    "import pandas as pd \n",
    "import pickle"
   ]
  },
  {
   "cell_type": "code",
   "execution_count": 15,
   "id": "997888a9",
   "metadata": {},
   "outputs": [],
   "source": [
    "# loading the saved model\n",
    "loaded_model = pickle.load(open(\"F:\\Diabetes Prediction\\diabetes.sav\",'rb'))  \n",
    "\n",
    "# creating a function for Prediction\n",
    "\n",
    "def diabetes_prediction(input_data):\n",
    "    \n",
    "\n",
    "    # changing the input_data to numpy array\n",
    "    input_data_as_numpy_array = np.asarray(input_data)\n",
    "\n",
    "    # reshape the array as we are predicting for one instance\n",
    "    input_data_reshaped = input_data_as_numpy_array.reshape(1,-1)\n",
    "\n",
    "    prediction = loaded_model.predict(input_data_reshaped)\n",
    "    print(prediction)\n",
    "\n",
    "    if (prediction[0] == 0):\n",
    "      return 'The person is not diabetic'\n",
    "    else:\n",
    "      return 'The person is diabetic'"
   ]
  },
  {
   "cell_type": "code",
   "execution_count": 16,
   "id": "ced41d86",
   "metadata": {},
   "outputs": [],
   "source": [
    "def main():\n",
    "    \n",
    "    \n",
    "    # giving a title\n",
    "    st.title('Diabetes Prediction Web App')\n",
    "    \n",
    "    \n",
    "    # getting the input data from the user\n",
    "    \n",
    "    \n",
    "    Pregnancies = st.text_input('Number of Pregnancies')\n",
    "    Glucose = st.text_input('Glucose Level')\n",
    "    BloodPressure = st.text_input('Blood Pressure value')\n",
    "    SkinThickness = st.text_input('Skin Thickness value')\n",
    "    Insulin = st.text_input('Insulin Level')\n",
    "    BMI = st.text_input('BMI value')\n",
    "    DiabetesPedigreeFunction = st.text_input('Diabetes Pedigree Function value')\n",
    "    Age = st.text_input('Age of the Person')\n",
    "    \n",
    "    \n",
    "    # code for Prediction\n",
    "    diagnosis = ''\n",
    "    \n",
    "    # creating a button for Prediction\n",
    "    \n",
    "    if st.button('Diabetes Test Result'):\n",
    "        diagnosis = diabetes_prediction([Pregnancies, Glucose, BloodPressure, SkinThickness, Insulin, BMI, DiabetesPedigreeFunction, Age])\n",
    "        \n",
    "        \n",
    "    st.success(diagnosis)\n",
    "    \n",
    "    \n",
    "if __name__ == '__main__':\n",
    "    main()"
   ]
  },
  {
   "cell_type": "code",
   "execution_count": null,
   "id": "f7b99d1c",
   "metadata": {},
   "outputs": [],
   "source": []
  },
  {
   "cell_type": "code",
   "execution_count": null,
   "id": "38aabe10",
   "metadata": {},
   "outputs": [],
   "source": []
  },
  {
   "cell_type": "code",
   "execution_count": null,
   "id": "c88834ed",
   "metadata": {},
   "outputs": [],
   "source": []
  },
  {
   "cell_type": "code",
   "execution_count": null,
   "id": "57e337ef",
   "metadata": {},
   "outputs": [],
   "source": []
  }
 ],
 "metadata": {
  "kernelspec": {
   "display_name": "Python 3 (ipykernel)",
   "language": "python",
   "name": "python3"
  },
  "language_info": {
   "codemirror_mode": {
    "name": "ipython",
    "version": 3
   },
   "file_extension": ".py",
   "mimetype": "text/x-python",
   "name": "python",
   "nbconvert_exporter": "python",
   "pygments_lexer": "ipython3",
   "version": "3.11.0"
  }
 },
 "nbformat": 4,
 "nbformat_minor": 5
}
